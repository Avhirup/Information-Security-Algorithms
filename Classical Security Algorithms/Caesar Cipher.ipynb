{
 "cells": [
  {
   "cell_type": "markdown",
   "metadata": {},
   "source": [
    "# Caesar Cipher\n",
    "\n",
    "### The Caesar cipher, also known as a shift cipher, is one of the simplest forms of encryption. It is a substitution cipher where each letter in the original message (called the plaintext) is replaced with a letter corresponding to a certain number of letters up or down in the alphabet.\n",
    "##### Input : File Name Output: Encrypted File Name"
   ]
  },
  {
   "cell_type": "code",
   "execution_count": 208,
   "metadata": {
    "collapsed": false
   },
   "outputs": [
    {
     "data": {
      "text/plain": [
       "'Wkh Fdhvdu flskhu, dovr nqrzq dv d vkliw flskhu, lv rqh ri wkh vlpsohvw irupv ri hqfubswlrq.'"
      ]
     },
     "execution_count": 208,
     "metadata": {},
     "output_type": "execute_result"
    }
   ],
   "source": [
    "#Reads File to Encrypt or Decrypt\n",
    "\n",
    "PlainTextFile=open(\"CaesarCipherText.txt\")\n",
    "plaintext=PlainTextFile.read()\n",
    "plaintext"
   ]
  },
  {
   "cell_type": "code",
   "execution_count": 191,
   "metadata": {
    "collapsed": false
   },
   "outputs": [],
   "source": [
    "#Encrypt Function\n",
    "##input txt,key\n",
    "##output cipherfile\n",
    "def Encrypt(ptxt,key):\n",
    "    CipherText=\"\"\n",
    "    CipherTextFile=open(\"CaesarCipherText.txt\",'w')\n",
    "    for ch in ptxt:\n",
    "        if ch.isalpha():\n",
    "            if ch.islower():\n",
    "                ch=chr(((ord(ch)-ord('a')+key)%26)+ord('a'))\n",
    "            if ch.isupper():\n",
    "                ch=chr(((ord(ch)-ord('A')+key)%26)+ord('A'))\n",
    "        CipherText=CipherText+ch\n",
    "    CipherTextFile.write(CipherText)"
   ]
  },
  {
   "cell_type": "code",
   "execution_count": 205,
   "metadata": {
    "collapsed": false
   },
   "outputs": [],
   "source": [
    "#Encrypt Function\n",
    "##input txt,key\n",
    "##output plaintextfile\n",
    "def Decrypt(ptxt,key):\n",
    "    PlainText=\"\"\n",
    "    PlainTextFile=open(\"PlainText.txt\",'w')\n",
    "    for ch in ptxt:\n",
    "        if ch.isalpha():\n",
    "            if ch.islower():\n",
    "                ch=chr(((ord(ch)-ord('a')-key)%26)+ord('a'))\n",
    "            if ch.isupper():\n",
    "                ch=chr(((ord(ch)-ord('A')-key)%26)+ord('A'))\n",
    "        PlainText=PlainText+ch\n",
    "    PlainTextFile.write(PlainText)"
   ]
  },
  {
   "cell_type": "code",
   "execution_count": 209,
   "metadata": {
    "collapsed": false
   },
   "outputs": [],
   "source": [
    "#Brute Force approach to find key\n",
    "\n",
    "import enchant as en\n",
    "import re\n",
    "Endict = en.Dict(\"en_US\")\n",
    "\n",
    "def DecryptWords(wrd,key):\n",
    "    PlainText=\"\"\n",
    "    for ch in wrd:\n",
    "        if ch.isalpha():\n",
    "            if ch.islower():\n",
    "                ch=chr(((ord(ch)-ord('a')-key)%26)+ord('a'))\n",
    "            if ch.isupper():\n",
    "                ch=chr(((ord(ch)-ord('A')-key)%26)+ord('A'))\n",
    "        PlainText=PlainText+ch\n",
    "    return PlainText\n",
    "\n",
    "def Decrypt(ptxt):\n",
    "    i=0;\n",
    "    ptxt=re.split(\"\\W+\",ptxt)\n",
    "    for key in range(27):\n",
    "        res=True\n",
    "        for wrd in ptxt:\n",
    "            if wrd:\n",
    "                tmpres=Endict.check(DecryptWords(wrd,key))\n",
    "                res=tmpres and res\n",
    "        if res:\n",
    "            print 'key:',key\n",
    "            return"
   ]
  },
  {
   "cell_type": "code",
   "execution_count": 210,
   "metadata": {
    "collapsed": false
   },
   "outputs": [],
   "source": [
    "Encrypt(plaintext,3)"
   ]
  },
  {
   "cell_type": "code",
   "execution_count": 211,
   "metadata": {
    "collapsed": false
   },
   "outputs": [
    {
     "name": "stdout",
     "output_type": "stream",
     "text": [
      "key: 3\n"
     ]
    }
   ],
   "source": [
    "Decrypt(plaintext)"
   ]
  },
  {
   "cell_type": "code",
   "execution_count": 212,
   "metadata": {
    "collapsed": false
   },
   "outputs": [
    {
     "ename": "TypeError",
     "evalue": "Decrypt() takes exactly 1 argument (2 given)",
     "output_type": "error",
     "traceback": [
      "\u001b[1;31m-----------------------------------------------------------------------\u001b[0m",
      "\u001b[1;31mTypeError\u001b[0m                             Traceback (most recent call last)",
      "\u001b[1;32m<ipython-input-212-b4f8b9381a0f>\u001b[0m in \u001b[0;36m<module>\u001b[1;34m()\u001b[0m\n\u001b[1;32m----> 1\u001b[1;33m \u001b[0mDecrypt\u001b[0m\u001b[1;33m(\u001b[0m\u001b[0mplaintext\u001b[0m\u001b[1;33m,\u001b[0m\u001b[1;36m3\u001b[0m\u001b[1;33m)\u001b[0m\u001b[1;33m\u001b[0m\u001b[0m\n\u001b[0m",
      "\u001b[1;31mTypeError\u001b[0m: Decrypt() takes exactly 1 argument (2 given)"
     ]
    }
   ],
   "source": [
    "Decrypt(plaintext,3)"
   ]
  },
  {
   "cell_type": "code",
   "execution_count": null,
   "metadata": {
    "collapsed": true
   },
   "outputs": [],
   "source": []
  }
 ],
 "metadata": {
  "kernelspec": {
   "display_name": "Python [Root]",
   "language": "python",
   "name": "Python [Root]"
  },
  "language_info": {
   "codemirror_mode": {
    "name": "ipython",
    "version": 2
   },
   "file_extension": ".py",
   "mimetype": "text/x-python",
   "name": "python",
   "nbconvert_exporter": "python",
   "pygments_lexer": "ipython2",
   "version": "2.7.12"
  }
 },
 "nbformat": 4,
 "nbformat_minor": 0
}
