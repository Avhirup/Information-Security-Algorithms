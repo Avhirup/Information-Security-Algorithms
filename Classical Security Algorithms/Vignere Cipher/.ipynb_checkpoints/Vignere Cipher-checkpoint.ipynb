{
 "cells": [
  {
   "cell_type": "markdown",
   "metadata": {},
   "source": [
    "## Vigenere Cipher\n"
   ]
  },
  {
   "cell_type": "code",
   "execution_count": 8,
   "metadata": {
    "collapsed": false
   },
   "outputs": [
    {
     "data": {
      "text/plain": [
       "'hello'"
      ]
     },
     "execution_count": 8,
     "metadata": {},
     "output_type": "execute_result"
    }
   ],
   "source": [
    "PlainTextFile=open(\"PlainText.txt\")\n",
    "plaintext=PlainTextFile.read()\n",
    "plaintext"
   ]
  },
  {
   "cell_type": "code",
   "execution_count": 9,
   "metadata": {
    "collapsed": false
   },
   "outputs": [],
   "source": [
    "key='Make'"
   ]
  },
  {
   "cell_type": "code",
   "execution_count": 20,
   "metadata": {
    "collapsed": false
   },
   "outputs": [],
   "source": [
    "import re\n",
    "\n",
    "def generateKeyList(key):\n",
    "    keylist=[]\n",
    "    for ch in key:\n",
    "        if ch.islower():\n",
    "            keylist.append((ord(ch)-ord('a'))) # concat\n",
    "        if ch.isupper():\n",
    "            keylist.append((ord(ch)-ord('a')))\n",
    "    print keylist\n",
    "    return keylist\n",
    "\n",
    "def Encrypt(plaintext,key):\n",
    "    CipherText=\"\"\n",
    "    CipherTextFile=open(\"PlainText.txt\",'w')\n",
    "    keylist=generateKeyList(key)\n",
    "    cntr=0\n",
    "    for ch in plaintext:\n",
    "        if ch.isalpha():\n",
    "            ch= chr((ord(ch)-ord('a')+keylist[cntr])%26 + 97)\n",
    "        CipherText=CipherText+ch\n",
    "        cntr=(cntr+1)%len(keylist) #count of list\n",
    "    print CipherText\n",
    "    CipherTextFile.write(CipherText)\n",
    "    \n",
    "    \n",
    "def Decrypt(ciphertext,key):\n",
    "    PlainText=\"\"\n",
    "    PlainTextFile=open(\"VigenereCipherText.txt\",'w')\n",
    "    keylist=generateKeyList(key)\n",
    "    cntr=0\n",
    "    for ch in plaintext:\n",
    "        if ch.isalpha():\n",
    "            ch= chr((ord(ch)-ord('a')-keylist[cntr])%26 + 97)\n",
    "        PlainText=PlainText+ch\n",
    "        cntr=(cntr+1)%len(keylist) #count of list\n",
    "    print PlainText\n",
    "    PlainTextFile.write(PlainText)"
   ]
  },
  {
   "cell_type": "code",
   "execution_count": 18,
   "metadata": {
    "collapsed": false
   },
   "outputs": [
    {
     "name": "stdout",
     "output_type": "stream",
     "text": [
      "[10, 4, 24, 22, 14, 17, 3]\n",
      "rijhc\n"
     ]
    }
   ],
   "source": [
    "Encrypt(plaintext,'keyword')\n",
    "\n"
   ]
  },
  {
   "cell_type": "code",
   "execution_count": 19,
   "metadata": {
    "collapsed": false
   },
   "outputs": [
    {
     "name": "stdout",
     "output_type": "stream",
     "text": [
      "[10, 4, 24, 22, 14, 17, 3]\n",
      "xanpa\n"
     ]
    }
   ],
   "source": [
    "Decrypt('rijhc','keyword')"
   ]
  },
  {
   "cell_type": "code",
   "execution_count": null,
   "metadata": {
    "collapsed": true
   },
   "outputs": [],
   "source": []
  }
 ],
 "metadata": {
  "kernelspec": {
   "display_name": "Python [Root]",
   "language": "python",
   "name": "Python [Root]"
  },
  "language_info": {
   "codemirror_mode": {
    "name": "ipython",
    "version": 2
   },
   "file_extension": ".py",
   "mimetype": "text/x-python",
   "name": "python",
   "nbconvert_exporter": "python",
   "pygments_lexer": "ipython2",
   "version": "2.7.12"
  }
 },
 "nbformat": 4,
 "nbformat_minor": 0
}
