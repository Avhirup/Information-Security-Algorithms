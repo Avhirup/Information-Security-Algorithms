{
 "cells": [
  {
   "cell_type": "markdown",
   "metadata": {},
   "source": [
    "## Vigenere Cipher\n"
   ]
  },
  {
   "cell_type": "code",
   "execution_count": 2,
   "metadata": {
    "collapsed": false
   },
   "outputs": [
    {
     "data": {
      "text/plain": [
       "'The Caesar cipher, also known as a shift cipher, is one of the simplest forms of encryption.'"
      ]
     },
     "execution_count": 2,
     "metadata": {},
     "output_type": "execute_result"
    }
   ],
   "source": [
    "PlainTextFile=open(\"PlainText.txt\")\n",
    "plaintext=PlainTextFile.read()\n",
    "plaintext"
   ]
  },
  {
   "cell_type": "code",
   "execution_count": 9,
   "metadata": {
    "collapsed": false
   },
   "outputs": [],
   "source": [
    "key='Make'"
   ]
  },
  {
   "cell_type": "code",
   "execution_count": 79,
   "metadata": {
    "collapsed": false
   },
   "outputs": [],
   "source": [
    "import re\n",
    "\n",
    "def generateKeyList(key):\n",
    "    keylist=[]\n",
    "    for ch in key:\n",
    "        if ch.islower():\n",
    "            keylist.append((ord(ch)-ord('a'))) # concat\n",
    "        if ch.isupper():\n",
    "            keylist.append((ord(ch)-ord('a')))\n",
    "    return keylist\n",
    "\n",
    "def Encrypt(plaintext,key):\n",
    "    CipherText=\"\"\n",
    "    CipherTextFile=open(\"VignereCipherText.txt\",'w')\n",
    "    keylist=generateKeyList(key)\n",
    "    cntr=0\n",
    "    for ch in plaintext:\n",
    "        if ch.isalpha():\n",
    "            ch= chr((ord(ch)-ord('a')+keylist[cntr])%26 + 97)\n",
    "        CipherText=CipherText+ch\n",
    "        cntr=(cntr+1)%len(keylist) #count of list\n",
    "    print CipherText\n",
    "    CipherTextFile.write(CipherText)\n",
    "    "
   ]
  },
  {
   "cell_type": "code",
   "execution_count": 81,
   "metadata": {
    "collapsed": false
   },
   "outputs": [
    {
     "name": "stdout",
     "output_type": "stream",
     "text": [
      "xlc krhcep qzsrip, rocs gbfzx yo r clgbh fstfaf, sw kbv yj pvv cmklzvvd dkfdv sd sefbcnpwfq.\n"
     ]
    }
   ],
   "source": [
    "Encrypt(plaintext,'keyword')\n"
   ]
  },
  {
   "cell_type": "code",
   "execution_count": null,
   "metadata": {
    "collapsed": true
   },
   "outputs": [],
   "source": []
  },
  {
   "cell_type": "code",
   "execution_count": null,
   "metadata": {
    "collapsed": true
   },
   "outputs": [],
   "source": []
  }
 ],
 "metadata": {
  "kernelspec": {
   "display_name": "Python [Root]",
   "language": "python",
   "name": "Python [Root]"
  },
  "language_info": {
   "codemirror_mode": {
    "name": "ipython",
    "version": 2
   },
   "file_extension": ".py",
   "mimetype": "text/x-python",
   "name": "python",
   "nbconvert_exporter": "python",
   "pygments_lexer": "ipython2",
   "version": "2.7.12"
  }
 },
 "nbformat": 4,
 "nbformat_minor": 0
}
