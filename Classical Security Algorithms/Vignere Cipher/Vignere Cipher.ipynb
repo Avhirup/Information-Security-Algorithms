{
 "cells": [
  {
   "cell_type": "markdown",
   "metadata": {},
   "source": [
    "## Vigenere Cipher\n"
   ]
  },
  {
   "cell_type": "code",
   "execution_count": 1,
   "metadata": {
    "collapsed": false
   },
   "outputs": [
    {
     "data": {
      "text/plain": [
       "'hdjio'"
      ]
     },
     "execution_count": 1,
     "metadata": {},
     "output_type": "execute_result"
    }
   ],
   "source": [
    "PlainTextFile=open(\"PlainText.txt\")\n",
    "plaintext=PlainTextFile.read()\n",
    "plaintext"
   ]
  },
  {
   "cell_type": "code",
   "execution_count": 2,
   "metadata": {
    "collapsed": false
   },
   "outputs": [],
   "source": [
    "key='Make'"
   ]
  },
  {
   "cell_type": "code",
   "execution_count": 3,
   "metadata": {
    "collapsed": false
   },
   "outputs": [],
   "source": [
    "import re\n",
    "\n",
    "def generateKeyList(key):\n",
    "    keylist=[]\n",
    "    for ch in key:\n",
    "        if ch.islower():\n",
    "            keylist.append((ord(ch)-ord('a'))) # concat\n",
    "        if ch.isupper():\n",
    "            keylist.append((ord(ch)-ord('A')))\n",
    "    print keylist\n",
    "    return keylist\n",
    "\n",
    "def Encrypt(plaintext,key):\n",
    "    CipherText=\"\"\n",
    "    CipherTextFile=open(\"VignereCipherText.txt\",'w')\n",
    "    keylist=generateKeyList(key)\n",
    "    cntr=0\n",
    "    for ch in plaintext:\n",
    "        if ch.isalpha():\n",
    "            ch= chr((ord(ch)-ord('a')+keylist[cntr])%26 + 97)\n",
    "        CipherText=CipherText+ch\n",
    "        cntr=(cntr+1)%len(keylist) #count of list\n",
    "    print CipherText\n",
    "    CipherTextFile.write(CipherText)\n",
    "    \n",
    "    \n",
    "def Decrypt(ciphertext,key):\n",
    "    PlainText=\"\"\n",
    "    #PlainTextFile=open(\"PlainText.txt\",'w')\n",
    "    keylist=generateKeyList(key)\n",
    "    cntr=0\n",
    "    for ch in ciphertext:\n",
    "        if ch.isalpha():\n",
    "            ch= chr((ord(ch)-ord('a')-keylist[cntr])%26 + 97)\n",
    "            print 'cn:',ch\n",
    "        PlainText=PlainText+ch\n",
    "        cntr=(cntr+1)%len(keylist) #count of list\n",
    "    print PlainText\n",
    "    #PlainTextFile.write(PlainText)"
   ]
  },
  {
   "cell_type": "code",
   "execution_count": 4,
   "metadata": {
    "collapsed": false
   },
   "outputs": [
    {
     "name": "stdout",
     "output_type": "stream",
     "text": [
      "[0, 1, 2, 3]\n",
      "hello\n"
     ]
    }
   ],
   "source": [
    "Encrypt(plaintext,'abcd')\n",
    "\n"
   ]
  },
  {
   "cell_type": "code",
   "execution_count": 5,
   "metadata": {
    "collapsed": false
   },
   "outputs": [
    {
     "name": "stdout",
     "output_type": "stream",
     "text": [
      "[0, 1, 2, 3]\n",
      "cn: h\n",
      "cn: e\n",
      "cn: l\n",
      "cn: l\n",
      "cn: o\n",
      "hello\n"
     ]
    }
   ],
   "source": [
    "Decrypt('hfnoo','abcd')"
   ]
  },
  {
   "cell_type": "code",
   "execution_count": null,
   "metadata": {
    "collapsed": true
   },
   "outputs": [],
   "source": []
  },
  {
   "cell_type": "code",
   "execution_count": null,
   "metadata": {
    "collapsed": true
   },
   "outputs": [],
   "source": []
  }
 ],
 "metadata": {
  "kernelspec": {
   "display_name": "Python [Root]",
   "language": "python",
   "name": "Python [Root]"
  },
  "language_info": {
   "codemirror_mode": {
    "name": "ipython",
    "version": 2
   },
   "file_extension": ".py",
   "mimetype": "text/x-python",
   "name": "python",
   "nbconvert_exporter": "python",
   "pygments_lexer": "ipython2",
   "version": "2.7.12"
  }
 },
 "nbformat": 4,
 "nbformat_minor": 0
}
