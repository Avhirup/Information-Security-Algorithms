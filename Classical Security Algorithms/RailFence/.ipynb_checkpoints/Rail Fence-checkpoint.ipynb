{
 "cells": [
  {
   "cell_type": "code",
   "execution_count": 1,
   "metadata": {
    "collapsed": false
   },
   "outputs": [
    {
     "data": {
      "text/plain": [
       "'abcdefgh'"
      ]
     },
     "execution_count": 1,
     "metadata": {},
     "output_type": "execute_result"
    }
   ],
   "source": [
    "PlainTextFile=open(\"PlainText.txt\")\n",
    "plaintext=PlainTextFile.read()\n",
    "plaintext"
   ]
  },
  {
   "cell_type": "code",
   "execution_count": 2,
   "metadata": {
    "collapsed": false
   },
   "outputs": [],
   "source": [
    "def fence(lst, numrails):\n",
    "    fence = [[None] * len(lst) for n in range(numrails)]\n",
    "    rails = range(numrails - 1) + range(numrails - 1, 0, -1)\n",
    "    for n, x in enumerate(lst):\n",
    "        print rails[n % len(rails)],\":\",n,\":\",x\n",
    "        fence[rails[n % len(rails)]][n] = x\n",
    "\n",
    "    return [c for rail in fence for c in rail if c is not None]\n",
    "\n",
    "def encode(text, n):\n",
    "    return ''.join(fence(text, n))\n",
    "\n",
    "def decode(text, n):\n",
    "    rng = range(len(text))\n",
    "    pos = fence(rng, n)\n",
    "    print pos\n",
    "    return ''.join(text[pos.index(n)]  for n in rng )"
   ]
  },
  {
   "cell_type": "code",
   "execution_count": 33,
   "metadata": {
    "collapsed": false
   },
   "outputs": [
    {
     "name": "stdout",
     "output_type": "stream",
     "text": [
      "0 : 0 : a\n",
      "1 : 1 : b\n",
      "2 : 2 : c\n",
      "1 : 3 : d\n",
      "0 : 4 : e\n",
      "1 : 5 : f\n",
      "2 : 6 : g\n",
      "1 : 7 : h\n"
     ]
    },
    {
     "data": {
      "text/plain": [
       "'aebdfhcg'"
      ]
     },
     "execution_count": 33,
     "metadata": {},
     "output_type": "execute_result"
    }
   ],
   "source": [
    "encode(plaintext,3)"
   ]
  },
  {
   "cell_type": "code",
   "execution_count": 34,
   "metadata": {
    "collapsed": false
   },
   "outputs": [
    {
     "name": "stdout",
     "output_type": "stream",
     "text": [
      "0 : 0 : 0\n",
      "1 : 1 : 1\n",
      "2 : 2 : 2\n",
      "1 : 3 : 3\n",
      "0 : 4 : 4\n",
      "1 : 5 : 5\n",
      "2 : 6 : 6\n",
      "1 : 7 : 7\n",
      "[0, 4, 1, 3, 5, 7, 2, 6]\n"
     ]
    },
    {
     "data": {
      "text/plain": [
       "'abcdefgh'"
      ]
     },
     "execution_count": 34,
     "metadata": {},
     "output_type": "execute_result"
    }
   ],
   "source": [
    "decode('aebdfhcg',3)"
   ]
  },
  {
   "cell_type": "code",
   "execution_count": null,
   "metadata": {
    "collapsed": true
   },
   "outputs": [],
   "source": []
  }
 ],
 "metadata": {
  "kernelspec": {
   "display_name": "Python [Root]",
   "language": "python",
   "name": "Python [Root]"
  },
  "language_info": {
   "codemirror_mode": {
    "name": "ipython",
    "version": 2
   },
   "file_extension": ".py",
   "mimetype": "text/x-python",
   "name": "python",
   "nbconvert_exporter": "python",
   "pygments_lexer": "ipython2",
   "version": "2.7.12"
  }
 },
 "nbformat": 4,
 "nbformat_minor": 0
}
