{
 "cells": [
  {
   "cell_type": "code",
   "execution_count": 1,
   "metadata": {
    "collapsed": true
   },
   "outputs": [],
   "source": [
    "import numpy as np"
   ]
  },
  {
   "cell_type": "code",
   "execution_count": 2,
   "metadata": {
    "collapsed": true
   },
   "outputs": [],
   "source": [
    "def encrypt(matrix,words):\n",
    "    cipher=\"\"\n",
    "    length=len(matrix)\n",
    "    matrix=np.array(matrix)\n",
    "    words=words.lower()\n",
    "    arr=[ord(i)-ord('a')for i in words]\n",
    "    count=0\n",
    "    for ch in words:\n",
    "        if str.isalpha(str(ch)):\n",
    "            cipher += chr(sum(matrix[count%length]*arr)%26+ord('a'))\n",
    "            count += 1\n",
    "    return cipher"
   ]
  },
  {
   "cell_type": "code",
   "execution_count": 9,
   "metadata": {
    "collapsed": true
   },
   "outputs": [],
   "source": [
    "def decrypt(matrix,words):\n",
    "    cipher=\"\"\n",
    "    length=len(matrix)\n",
    "    matrix=(np.linalg.inv(matrix)+26)%26\n",
    "    words=words.lower()\n",
    "    arr=np.array([ord(i)-ord('a') for i in words],dtype=int)\n",
    "    count =0\n",
    "    for ch in words:\n",
    "        if str.isalpha(str(ch)):\n",
    "            number=sum(matrix[count%length]*arr)%26\n",
    "            print number\n",
    "            cipher += chr(int(str(number)[:-2])+ord('a'))\n",
    "            count+=1\n",
    "    return cipher"
   ]
  },
  {
   "cell_type": "code",
   "execution_count": 10,
   "metadata": {
    "collapsed": false
   },
   "outputs": [
    {
     "name": "stdout",
     "output_type": "stream",
     "text": [
      "ytix\n"
     ]
    }
   ],
   "source": [
    "secret = [[ 8,  6,  9, 5  ],\n",
    "              [ 6,  9,  5, 10 ],\n",
    "              [ 5,  8,  4, 9  ],\n",
    "              [ 10, 6, 11, 4  ]]\n",
    "    # 明文\n",
    "text = \"hill\";\n",
    "\n",
    "    # 使用密匙（矩阵）加密字符串\n",
    "ciphertext = encrypt(secret, text)\n",
    "\n",
    "    # 密文\n",
    "print(ciphertext)"
   ]
  },
  {
   "cell_type": "code",
   "execution_count": 11,
   "metadata": {
    "collapsed": false
   },
   "outputs": [
    {
     "name": "stdout",
     "output_type": "stream",
     "text": [
      "7.0\n",
      "8.0\n",
      "11.0\n",
      "11.0\n",
      "hill\n"
     ]
    }
   ],
   "source": [
    "print(decrypt(secret, ciphertext))"
   ]
  },
  {
   "cell_type": "code",
   "execution_count": null,
   "metadata": {
    "collapsed": true
   },
   "outputs": [],
   "source": []
  }
 ],
 "metadata": {
  "kernelspec": {
   "display_name": "Python [Root]",
   "language": "python",
   "name": "Python [Root]"
  },
  "language_info": {
   "codemirror_mode": {
    "name": "ipython",
    "version": 2
   },
   "file_extension": ".py",
   "mimetype": "text/x-python",
   "name": "python",
   "nbconvert_exporter": "python",
   "pygments_lexer": "ipython2",
   "version": "2.7.12"
  }
 },
 "nbformat": 4,
 "nbformat_minor": 0
}
