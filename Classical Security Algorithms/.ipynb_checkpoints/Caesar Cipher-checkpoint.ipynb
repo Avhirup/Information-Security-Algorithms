{
 "cells": [
  {
   "cell_type": "markdown",
   "metadata": {},
   "source": [
    "# Caesar Cipher\n",
    "\n",
    "### The Caesar cipher, also known as a shift cipher, is one of the simplest forms of encryption. It is a substitution cipher where each letter in the original message (called the plaintext) is replaced with a letter corresponding to a certain number of letters up or down in the alphabet.\n",
    "##### Input : File Name Output: Encrypted File Name"
   ]
  },
  {
   "cell_type": "code",
   "execution_count": 81,
   "metadata": {
    "collapsed": false
   },
   "outputs": [],
   "source": [
    "PlainTextFile=open(\"CaesarCipherText.txt\")"
   ]
  },
  {
   "cell_type": "code",
   "execution_count": 82,
   "metadata": {
    "collapsed": false
   },
   "outputs": [],
   "source": [
    "plaintext=PlainTextFile.read()"
   ]
  },
  {
   "cell_type": "code",
   "execution_count": 83,
   "metadata": {
    "collapsed": false
   },
   "outputs": [
    {
     "data": {
      "text/plain": [
       "'Wkh Fdhvdu flskhu, dovr nqrzq dv d vkliw flskhu, lv rqh ri wkh vlpsohvw irupv ri hqfubswlrq. Lw lv d vxevwlwxwlrq flskhu zkhuh hdfk ohwwhu lq wkh ruljlqdo phvvdjh (fdoohg wkh sodlqwhaw) lv uhsodfhg zlwk d ohwwhu fruuhvsrqglqj wr d fhuwdlq qxpehu ri ohwwhuv xs ru grzq lq wkh doskdehw.'"
      ]
     },
     "execution_count": 83,
     "metadata": {},
     "output_type": "execute_result"
    }
   ],
   "source": [
    "plaintext"
   ]
  },
  {
   "cell_type": "code",
   "execution_count": 70,
   "metadata": {
    "collapsed": false
   },
   "outputs": [],
   "source": [
    "def Encrypt(ptxt,key):\n",
    "    CipherText=\"\"\n",
    "    CipherTextFile=open(\"CaesarCipherText.txt\",'w')\n",
    "    for ch in ptxt:\n",
    "        if ch.isalpha():\n",
    "            if ch.islower():\n",
    "                ch=chr(((ord(ch)-ord('a')+key)%26)+ord('a'))\n",
    "            if ch.isupper():\n",
    "                ch=chr(((ord(ch)-ord('A')+key)%26)+ord('A'))\n",
    "        CipherText=CipherText+ch\n",
    "    CipherTextFile.write(CipherText)"
   ]
  },
  {
   "cell_type": "code",
   "execution_count": 72,
   "metadata": {
    "collapsed": false
   },
   "outputs": [],
   "source": [
    "def Decrypt(ptxt,key):\n",
    "    PlainText=\"\"\n",
    "    PlainTextFile=open(\"PlainText.txt\",'w')\n",
    "    for ch in ptxt:\n",
    "        if ch.isalpha():\n",
    "            if ch.islower():\n",
    "                ch=chr(((ord(ch)-ord('a')-key)%26)+ord('a'))\n",
    "            if ch.isupper():\n",
    "                ch=chr(((ord(ch)-ord('A')-key)%26)+ord('A'))\n",
    "        PlainText=PlainText+ch\n",
    "    PlainTextFile.write(PlainText)"
   ]
  },
  {
   "cell_type": "code",
   "execution_count": 97,
   "metadata": {
    "collapsed": false
   },
   "outputs": [
    {
     "data": {
      "text/plain": [
       "'Wkh Fdhvdu flskhu, dovr nqrzq dv d vkliw flskhu, lv rqh ri wkh vlpsohvw irupv ri hqfubswlrq. Lw lv d vxevwlwxwlrq flskhu zkhuh hdfk ohwwhu lq wkh ruljlqdo phvvdjh (fdoohg wkh sodlqwhaw) lv uhsodfhg zlwk d ohwwhu fruuhvsrqglqj wr d fhuwdlq qxpehu ri ohwwhuv xs ru grzq lq wkh doskdehw.'"
      ]
     },
     "execution_count": 97,
     "metadata": {},
     "output_type": "execute_result"
    }
   ],
   "source": [
    "plaintext"
   ]
  },
  {
   "cell_type": "code",
   "execution_count": 138,
   "metadata": {
    "collapsed": false
   },
   "outputs": [],
   "source": [
    "import enchant as en\n",
    "Endict = en.Dict(\"en_US\")\n",
    "def check_Dict(ip,i):\n",
    "    test=\"\"\n",
    "    for c in ip:\n",
    "        ch=ord(c)-97\n",
    "        ch-=i\n",
    "        if ch<0:\n",
    "            ch+=26\n",
    "            test=test+chr(ch+97)\n",
    "    if Endict.check(test):\n",
    "        return True\n",
    "\n",
    "def printdecoded(ip,i):\n",
    "    for wrd in ip.split():\n",
    "        test=\"\"\n",
    "        for c in wrd:\n",
    "            temp=ord(c)-97\n",
    "            temp-=i\n",
    "            if temp<0:\n",
    "                temp+=26\n",
    "                test=test+chr(temp+97)\n",
    "        print test,\" \"\n",
    "        \n",
    "def Decrypt(ptxt):\n",
    "    i=0;\n",
    "    for i in range (27):\n",
    "        test=\"\" \n",
    "        flg=True\n",
    "        inpt=ptxt.split(\" \")\n",
    "        for test in inpt:\n",
    "            if(not check_Dict(test,i)):\n",
    "                flg=False\n",
    "            if(flg==True):\n",
    "                printdecoded(ptxt,i)\n",
    "        i=i+1"
   ]
  },
  {
   "cell_type": "code",
   "execution_count": 139,
   "metadata": {
    "collapsed": false
   },
   "outputs": [
    {
     "name": "stdout",
     "output_type": "stream",
     "text": [
      "\n",
      "\n",
      "\n"
     ]
    },
    {
     "ename": "Error",
     "evalue": "Unspecified Error",
     "output_type": "error",
     "traceback": [
      "\u001b[1;31m-----------------------------------------------------------------------\u001b[0m",
      "\u001b[1;31mError\u001b[0m                                 Traceback (most recent call last)",
      "\u001b[1;32m<ipython-input-139-c84fef07bc81>\u001b[0m in \u001b[0;36m<module>\u001b[1;34m()\u001b[0m\n\u001b[1;32m----> 1\u001b[1;33m \u001b[0mcheck_Dict\u001b[0m\u001b[1;33m(\u001b[0m\u001b[1;34m'dog'\u001b[0m\u001b[1;33m,\u001b[0m\u001b[1;36m1\u001b[0m\u001b[1;33m)\u001b[0m\u001b[1;33m\u001b[0m\u001b[0m\n\u001b[0m",
      "\u001b[1;32m<ipython-input-138-dcd228dcb628>\u001b[0m in \u001b[0;36mcheck_Dict\u001b[1;34m(ip, i)\u001b[0m\n\u001b[0;32m     10\u001b[0m             \u001b[0mtest\u001b[0m\u001b[1;33m=\u001b[0m\u001b[0mtest\u001b[0m\u001b[1;33m+\u001b[0m\u001b[0mchr\u001b[0m\u001b[1;33m(\u001b[0m\u001b[0mch\u001b[0m\u001b[1;33m+\u001b[0m\u001b[1;36m97\u001b[0m\u001b[1;33m)\u001b[0m\u001b[1;33m\u001b[0m\u001b[0m\n\u001b[0;32m     11\u001b[0m         \u001b[1;32mprint\u001b[0m \u001b[0mtest\u001b[0m\u001b[1;33m\u001b[0m\u001b[0m\n\u001b[1;32m---> 12\u001b[1;33m     \u001b[1;32mif\u001b[0m \u001b[0mEndict\u001b[0m\u001b[1;33m.\u001b[0m\u001b[0mcheck\u001b[0m\u001b[1;33m(\u001b[0m\u001b[0mtest\u001b[0m\u001b[1;33m)\u001b[0m\u001b[1;33m:\u001b[0m\u001b[1;33m\u001b[0m\u001b[0m\n\u001b[0m\u001b[0;32m     13\u001b[0m         \u001b[1;32mreturn\u001b[0m \u001b[0mTrue\u001b[0m\u001b[1;33m\u001b[0m\u001b[0m\n\u001b[0;32m     14\u001b[0m \u001b[1;33m\u001b[0m\u001b[0m\n",
      "\u001b[1;32m/home/avhirup/anaconda2/lib/python2.7/site-packages/enchant/__init__.pyc\u001b[0m in \u001b[0;36mcheck\u001b[1;34m(self, word)\u001b[0m\n\u001b[0;32m    639\u001b[0m         \u001b[1;32mif\u001b[0m \u001b[0mval\u001b[0m \u001b[1;33m>\u001b[0m \u001b[1;36m0\u001b[0m\u001b[1;33m:\u001b[0m\u001b[1;33m\u001b[0m\u001b[0m\n\u001b[0;32m    640\u001b[0m             \u001b[1;32mreturn\u001b[0m \u001b[0mFalse\u001b[0m\u001b[1;33m\u001b[0m\u001b[0m\n\u001b[1;32m--> 641\u001b[1;33m         \u001b[0mself\u001b[0m\u001b[1;33m.\u001b[0m\u001b[0m_raise_error\u001b[0m\u001b[1;33m(\u001b[0m\u001b[1;33m)\u001b[0m\u001b[1;33m\u001b[0m\u001b[0m\n\u001b[0m\u001b[0;32m    642\u001b[0m \u001b[1;33m\u001b[0m\u001b[0m\n\u001b[0;32m    643\u001b[0m     \u001b[1;32mdef\u001b[0m \u001b[0msuggest\u001b[0m\u001b[1;33m(\u001b[0m\u001b[0mself\u001b[0m\u001b[1;33m,\u001b[0m\u001b[0mword\u001b[0m\u001b[1;33m)\u001b[0m\u001b[1;33m:\u001b[0m\u001b[1;33m\u001b[0m\u001b[0m\n",
      "\u001b[1;32m/home/avhirup/anaconda2/lib/python2.7/site-packages/enchant/__init__.pyc\u001b[0m in \u001b[0;36m_raise_error\u001b[1;34m(self, default, eclass)\u001b[0m\n\u001b[0;32m    610\u001b[0m         \u001b[0merr\u001b[0m \u001b[1;33m=\u001b[0m \u001b[0m_e\u001b[0m\u001b[1;33m.\u001b[0m\u001b[0mdict_get_error\u001b[0m\u001b[1;33m(\u001b[0m\u001b[0mself\u001b[0m\u001b[1;33m.\u001b[0m\u001b[0m_this\u001b[0m\u001b[1;33m)\u001b[0m\u001b[1;33m\u001b[0m\u001b[0m\n\u001b[0;32m    611\u001b[0m         \u001b[1;32mif\u001b[0m \u001b[0merr\u001b[0m \u001b[1;33m==\u001b[0m \u001b[1;34m\"\"\u001b[0m \u001b[1;32mor\u001b[0m \u001b[0merr\u001b[0m \u001b[1;32mis\u001b[0m \u001b[0mNone\u001b[0m\u001b[1;33m:\u001b[0m\u001b[1;33m\u001b[0m\u001b[0m\n\u001b[1;32m--> 612\u001b[1;33m             \u001b[1;32mraise\u001b[0m \u001b[0meclass\u001b[0m\u001b[1;33m(\u001b[0m\u001b[0mdefault\u001b[0m\u001b[1;33m)\u001b[0m\u001b[1;33m\u001b[0m\u001b[0m\n\u001b[0m\u001b[0;32m    613\u001b[0m         \u001b[1;32mraise\u001b[0m \u001b[0meclass\u001b[0m\u001b[1;33m(\u001b[0m\u001b[0merr\u001b[0m\u001b[1;33m)\u001b[0m\u001b[1;33m\u001b[0m\u001b[0m\n\u001b[0;32m    614\u001b[0m \u001b[1;33m\u001b[0m\u001b[0m\n",
      "\u001b[1;31mError\u001b[0m: Unspecified Error"
     ]
    }
   ],
   "source": [
    "check_Dict('dog',1)"
   ]
  },
  {
   "cell_type": "code",
   "execution_count": null,
   "metadata": {
    "collapsed": true
   },
   "outputs": [],
   "source": []
  }
 ],
 "metadata": {
  "kernelspec": {
   "display_name": "Python [Root]",
   "language": "python",
   "name": "Python [Root]"
  },
  "language_info": {
   "codemirror_mode": {
    "name": "ipython",
    "version": 2
   },
   "file_extension": ".py",
   "mimetype": "text/x-python",
   "name": "python",
   "nbconvert_exporter": "python",
   "pygments_lexer": "ipython2",
   "version": "2.7.12"
  }
 },
 "nbformat": 4,
 "nbformat_minor": 0
}
