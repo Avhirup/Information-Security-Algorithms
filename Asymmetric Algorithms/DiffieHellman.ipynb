{
 "cells": [
  {
   "cell_type": "code",
   "execution_count": 17,
   "metadata": {
    "collapsed": true
   },
   "outputs": [],
   "source": [
    "from Crypto.Util import number"
   ]
  },
  {
   "cell_type": "code",
   "execution_count": 38,
   "metadata": {
    "collapsed": false
   },
   "outputs": [
    {
     "name": "stdout",
     "output_type": "stream",
     "text": [
      "6 , 1\n",
      "1\n",
      "1\n"
     ]
    }
   ],
   "source": [
    "primeNum=number.getPrime(3)\n",
    "pr= getPrimitiveRoot(primeNum)\n",
    "#private\n",
    "x1=3\n",
    "x2=12\n",
    "\n",
    "y1=(pr**x1)%primeNum\n",
    "y2=(pr**x2)%primeNum\n",
    "print y1,\",\",y2\n",
    "\n",
    "#common key\n",
    "k=(y1**x2)%primeNum\n",
    "print k\n",
    "k1=(y2**x1)%primeNum\n",
    "print k1"
   ]
  },
  {
   "cell_type": "code",
   "execution_count": 35,
   "metadata": {
    "collapsed": false
   },
   "outputs": [],
   "source": [
    "def getPrimitiveRoot(val):\n",
    "    tmp=range(1,val)\n",
    "    for i in range(2,val):\n",
    "            lst=[]\n",
    "            for j in range(1,val):\n",
    "                    num=(i**j)%val\n",
    "                    lst.append(num)\n",
    "            if sorted(lst)==tmp:\n",
    "                return i\n",
    "            "
   ]
  },
  {
   "cell_type": "code",
   "execution_count": 36,
   "metadata": {
    "collapsed": false
   },
   "outputs": [
    {
     "data": {
      "text/plain": [
       "2"
      ]
     },
     "execution_count": 36,
     "metadata": {},
     "output_type": "execute_result"
    }
   ],
   "source": [
    "getPrimitiveRoot(5)"
   ]
  },
  {
   "cell_type": "code",
   "execution_count": null,
   "metadata": {
    "collapsed": true
   },
   "outputs": [],
   "source": []
  }
 ],
 "metadata": {
  "kernelspec": {
   "display_name": "Python [Root]",
   "language": "python",
   "name": "Python [Root]"
  },
  "language_info": {
   "codemirror_mode": {
    "name": "ipython",
    "version": 2
   },
   "file_extension": ".py",
   "mimetype": "text/x-python",
   "name": "python",
   "nbconvert_exporter": "python",
   "pygments_lexer": "ipython2",
   "version": "2.7.12"
  }
 },
 "nbformat": 4,
 "nbformat_minor": 0
}
