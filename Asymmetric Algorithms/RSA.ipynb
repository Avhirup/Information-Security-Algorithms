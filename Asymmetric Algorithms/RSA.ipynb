{
 "cells": [
  {
   "cell_type": "code",
   "execution_count": 9,
   "metadata": {
    "collapsed": false
   },
   "outputs": [
    {
     "data": {
      "text/plain": [
       "<_RSAobj @0x7f90a80d1758 n(1024),e,d,p,q,u,private>"
      ]
     },
     "execution_count": 9,
     "metadata": {},
     "output_type": "execute_result"
    }
   ],
   "source": [
    "from Crypto.PublicKey import RSA\n",
    "from Crypto import Random\n",
    "random_generator = Random.new().read\n",
    "key = RSA.generate(1024, random_generator)\n",
    "key"
   ]
  },
  {
   "cell_type": "code",
   "execution_count": 2,
   "metadata": {
    "collapsed": false
   },
   "outputs": [
    {
     "data": {
      "text/plain": [
       "True"
      ]
     },
     "execution_count": 2,
     "metadata": {},
     "output_type": "execute_result"
    }
   ],
   "source": [
    "key.can_encrypt()"
   ]
  },
  {
   "cell_type": "code",
   "execution_count": 3,
   "metadata": {
    "collapsed": false
   },
   "outputs": [
    {
     "data": {
      "text/plain": [
       "True"
      ]
     },
     "execution_count": 3,
     "metadata": {},
     "output_type": "execute_result"
    }
   ],
   "source": [
    " key.can_sign()\n"
   ]
  },
  {
   "cell_type": "code",
   "execution_count": 4,
   "metadata": {
    "collapsed": false
   },
   "outputs": [
    {
     "data": {
      "text/plain": [
       "True"
      ]
     },
     "execution_count": 4,
     "metadata": {},
     "output_type": "execute_result"
    }
   ],
   "source": [
    " key.has_private()"
   ]
  },
  {
   "cell_type": "code",
   "execution_count": 5,
   "metadata": {
    "collapsed": true
   },
   "outputs": [],
   "source": [
    "public_key = key.publickey()\n",
    "print "
   ]
  },
  {
   "cell_type": "code",
   "execution_count": 6,
   "metadata": {
    "collapsed": false
   },
   "outputs": [
    {
     "data": {
      "text/plain": [
       "('\\x13O\\x0e6\\xa3P(\\xe2\\x8f\\x12\\x01f[\\xe3\\xdf0\\xe8\\x87\\xc1*,q\\x88\\x12\\xd7\\xa8_\\x82\\xcf\\\\Z[X\\xb6\\xfc\\x1cU\\xeck\\x7f\\xb2\\x9d\\xae^\\xc7\\xfb\\x05\\xf2\\xd5e\\xd9\\x82\\xc4);\\x7f\\nd\\x17<\\x8b\\x02\\xb7\\xdfK0\\x8b\\xed\\xee0\\xbf\\xba\\xb3\\r\\xea\\xff.X#\\xc9\\n\\x99\\x18\\xa0[Q\\xab\\x00\\xc0+\\x91\\x18\\xeeo\\x8at\\xad\\xe9)(\\x03M}\\x11\\x8eW=\\xa0\\xaf\\xdd\\xa4\\x03\\xb9\\x861\\x8f\\xee\\xdf\\x04\\xdc\\x8e\\xb3S\\xc8\\\\\\t\\t\\xb8',)"
      ]
     },
     "execution_count": 6,
     "metadata": {},
     "output_type": "execute_result"
    }
   ],
   "source": [
    "PlainTextFile=open(\"PlainText.txt\")\n",
    "plaintext=PlainTextFile.read()\n",
    "enc_data = public_key.encrypt(plaintext,32)\n",
    "enc_data\n",
    "\n"
   ]
  },
  {
   "cell_type": "code",
   "execution_count": 7,
   "metadata": {
    "collapsed": false
   },
   "outputs": [],
   "source": [
    "cipherTextFile = open(\"CipherText.txt\",'w')\n",
    "cipherTextFile.write(str(enc_data))"
   ]
  },
  {
   "cell_type": "code",
   "execution_count": 8,
   "metadata": {
    "collapsed": false
   },
   "outputs": [
    {
     "data": {
      "text/plain": [
       "'hello'"
      ]
     },
     "execution_count": 8,
     "metadata": {},
     "output_type": "execute_result"
    }
   ],
   "source": [
    "key.decrypt(enc_data)"
   ]
  },
  {
   "cell_type": "code",
   "execution_count": null,
   "metadata": {
    "collapsed": true
   },
   "outputs": [],
   "source": []
  }
 ],
 "metadata": {
  "kernelspec": {
   "display_name": "Python [Root]",
   "language": "python",
   "name": "Python [Root]"
  },
  "language_info": {
   "codemirror_mode": {
    "name": "ipython",
    "version": 2
   },
   "file_extension": ".py",
   "mimetype": "text/x-python",
   "name": "python",
   "nbconvert_exporter": "python",
   "pygments_lexer": "ipython2",
   "version": "2.7.12"
  }
 },
 "nbformat": 4,
 "nbformat_minor": 1
}
