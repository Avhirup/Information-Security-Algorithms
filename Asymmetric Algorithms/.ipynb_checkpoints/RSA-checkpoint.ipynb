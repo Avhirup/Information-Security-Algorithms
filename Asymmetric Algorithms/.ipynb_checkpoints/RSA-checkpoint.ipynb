{
 "cells": [
  {
   "cell_type": "code",
   "execution_count": 1,
   "metadata": {
    "collapsed": false
   },
   "outputs": [
    {
     "data": {
      "text/plain": [
       "<_RSAobj @0x7f353af566c8 n(1024),e,d,p,q,u,private>"
      ]
     },
     "execution_count": 1,
     "metadata": {},
     "output_type": "execute_result"
    }
   ],
   "source": [
    " from Crypto.PublicKey import RSA\n",
    " from Crypto import Random\n",
    " random_generator = Random.new().read\n",
    " key = RSA.generate(1024, random_generator)\n",
    " key"
   ]
  },
  {
   "cell_type": "code",
   "execution_count": 2,
   "metadata": {
    "collapsed": false
   },
   "outputs": [
    {
     "data": {
      "text/plain": [
       "True"
      ]
     },
     "execution_count": 2,
     "metadata": {},
     "output_type": "execute_result"
    }
   ],
   "source": [
    "key.can_encrypt()"
   ]
  },
  {
   "cell_type": "code",
   "execution_count": 3,
   "metadata": {
    "collapsed": false
   },
   "outputs": [
    {
     "data": {
      "text/plain": [
       "True"
      ]
     },
     "execution_count": 3,
     "metadata": {},
     "output_type": "execute_result"
    }
   ],
   "source": [
    " key.can_sign()\n"
   ]
  },
  {
   "cell_type": "code",
   "execution_count": 4,
   "metadata": {
    "collapsed": false
   },
   "outputs": [
    {
     "data": {
      "text/plain": [
       "True"
      ]
     },
     "execution_count": 4,
     "metadata": {},
     "output_type": "execute_result"
    }
   ],
   "source": [
    " key.has_private()"
   ]
  },
  {
   "cell_type": "code",
   "execution_count": 6,
   "metadata": {
    "collapsed": true
   },
   "outputs": [],
   "source": [
    "public_key = key.publickey()"
   ]
  },
  {
   "cell_type": "code",
   "execution_count": 16,
   "metadata": {
    "collapsed": false
   },
   "outputs": [
    {
     "data": {
      "text/plain": [
       "('&\\xc3%}s\\x80\\x14r\\x1f\\xbdZ\\x89\\xa5\\x17C}5\\xdf\\x0e\\xba\\xeby}\\x14j\\x93\\xeegG\\xd5K\\xa2x\\xd9Wl,\\xb6\\xd1&\\xb8>6\\xc1\\xb3k\\xb3\\xd2\\x8e#\\xe3\\xa5\\xc8Q\\x07g.\\x98\\x81\\x9b&\\xe0\\xcc\\xde\\xcd\\xe85\\xbd\\x88\\xf9T\\xa8\\x8e`R\\x85\\xab\\xf5\\xfe\\xbar\\x0b\\x8f\\x7f`\\x0f\\x0b\\xc1M\\x95\\xdb*\\xd4\\x82\\x12<\\xdbW\\x8f\\xf3\\xc6a\\xed1\\x90\\x8c\\xeaq\\xf4\\x82\\xfc\\x06(:*\\xc4\\xd4A3\\xfa\\xcbm\\\\c\\x9f\\xcbV\\xce',)"
      ]
     },
     "execution_count": 16,
     "metadata": {},
     "output_type": "execute_result"
    }
   ],
   "source": [
    "PlainTextFile=open(\"PlainText.txt\")\n",
    "plaintext=PlainTextFile.read()\n",
    "enc_data = public_key.encrypt(plaintext,32)\n",
    "enc_data\n",
    "\n"
   ]
  },
  {
   "cell_type": "code",
   "execution_count": 10,
   "metadata": {
    "collapsed": false
   },
   "outputs": [],
   "source": [
    "cipherTextFile = open(\"CipherText.txt\",'w')\n",
    "cipherTextFile.write(str(enc_data))"
   ]
  },
  {
   "cell_type": "code",
   "execution_count": 21,
   "metadata": {
    "collapsed": false
   },
   "outputs": [
    {
     "data": {
      "text/plain": [
       "'The Caesar cipher, also known as a shift cipher, is one of the simplest forms of encryption.'"
      ]
     },
     "execution_count": 21,
     "metadata": {},
     "output_type": "execute_result"
    }
   ],
   "source": [
    "key.decrypt(enc_data)"
   ]
  },
  {
   "cell_type": "code",
   "execution_count": null,
   "metadata": {
    "collapsed": true
   },
   "outputs": [],
   "source": []
  }
 ],
 "metadata": {
  "kernelspec": {
   "display_name": "Python [Root]",
   "language": "python",
   "name": "Python [Root]"
  },
  "language_info": {
   "codemirror_mode": {
    "name": "ipython",
    "version": 2
   },
   "file_extension": ".py",
   "mimetype": "text/x-python",
   "name": "python",
   "nbconvert_exporter": "python",
   "pygments_lexer": "ipython2",
   "version": "2.7.12"
  }
 },
 "nbformat": 4,
 "nbformat_minor": 1
}
