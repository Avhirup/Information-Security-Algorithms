{
 "cells": [
  {
   "cell_type": "code",
   "execution_count": 9,
   "metadata": {
    "collapsed": false
   },
   "outputs": [
    {
     "name": "stdout",
     "output_type": "stream",
     "text": [
      "234 , 269\n",
      "336\n",
      "336\n"
     ]
    }
   ],
   "source": [
    "p=353\n",
    "pr=20\n",
    "\n",
    "x1=3\n",
    "x2=12\n",
    "\n",
    "y1=(pr**x1)%p\n",
    "y2=(pr**x2)%p\n",
    "print y1,\",\",y2\n",
    "\n",
    "\n",
    "k=(y1**x2)%p\n",
    "print k\n",
    "k1=(y2**x1)%p\n",
    "print k1"
   ]
  },
  {
   "cell_type": "code",
   "execution_count": null,
   "metadata": {
    "collapsed": false
   },
   "outputs": [],
   "source": [
    "\n",
    "        "
   ]
  },
  {
   "cell_type": "code",
   "execution_count": null,
   "metadata": {
    "collapsed": true
   },
   "outputs": [],
   "source": []
  }
 ],
 "metadata": {
  "kernelspec": {
   "display_name": "Python [Root]",
   "language": "python",
   "name": "Python [Root]"
  },
  "language_info": {
   "codemirror_mode": {
    "name": "ipython",
    "version": 2
   },
   "file_extension": ".py",
   "mimetype": "text/x-python",
   "name": "python",
   "nbconvert_exporter": "python",
   "pygments_lexer": "ipython2",
   "version": "2.7.12"
  }
 },
 "nbformat": 4,
 "nbformat_minor": 0
}
