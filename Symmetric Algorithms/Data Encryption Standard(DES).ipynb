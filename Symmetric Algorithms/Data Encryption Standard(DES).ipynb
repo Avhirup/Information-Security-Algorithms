{
 "cells": [
  {
   "cell_type": "markdown",
   "metadata": {},
   "source": [
    "## DES\n",
    "The Data Encryption Standard is a symmetric-key algorithm for the encryption of electronic data ... The algorithm is believed to be practically secure in the form of Triple DES, although there are theoretical attacks.\n",
    "#### Library used:PyCrypto BlockSize=8\n",
    "\n",
    "<img src=\"DES1.png\">"
   ]
  },
  {
   "cell_type": "code",
   "execution_count": 1,
   "metadata": {
    "collapsed": true
   },
   "outputs": [],
   "source": [
    "#Importing Dependencies\n",
    "\n",
    "from Crypto import Random\n",
    "from Crypto.Cipher import DES\n",
    "import base64\n",
    "import hashlib"
   ]
  },
  {
   "cell_type": "code",
   "execution_count": 7,
   "metadata": {
    "collapsed": false
   },
   "outputs": [
    {
     "data": {
      "text/plain": [
       "'hello'"
      ]
     },
     "execution_count": 7,
     "metadata": {},
     "output_type": "execute_result"
    }
   ],
   "source": [
    "#copying plaintext from file\n",
    "PlainTextFile=open(\"PlainText.txt\")\n",
    "plaintext=PlainTextFile.read()\n",
    "plaintext"
   ]
  },
  {
   "cell_type": "code",
   "execution_count": 8,
   "metadata": {
    "collapsed": true
   },
   "outputs": [],
   "source": [
    "#DES Example\n",
    "#BS is BLOCK SIZE\n",
    "#Padding and Unpadding required when input size is not a multiple of BS\n",
    "\n",
    "BS=8\n",
    "pad = lambda s: s + (BS - len(s) % BS) * chr(BS - len(s) % BS) \n",
    "unpad = lambda s : s[:-ord(s[len(s)-1:])]\n",
    "\n",
    "def encrypt(raw,key):\n",
    "    CipherText=\"\"\n",
    "    CipherTextFile=open(\"CipherText.txt\",'w')\n",
    "    raw = pad(raw)\n",
    "    cipher = DES.new(key, DES.MODE_ECB)\n",
    "    CipherText=cipher.encrypt( raw ) \n",
    "    CipherTextFile.write(CipherText)\n",
    "    return CipherText\n",
    "\n",
    "def decrypt(enc,key):\n",
    "    PlainText=\"\"\n",
    "    PlainTextFile=open(\"PlainText.txt\",'w')\n",
    "    cipher = DES.new(key, DES.MODE_ECB )\n",
    "    PlainText=unpad(cipher.decrypt( enc[:8] ))\n",
    "    PlainTextFile.write(PlainText)\n",
    "    return PlainText"
   ]
  },
  {
   "cell_type": "code",
   "execution_count": 9,
   "metadata": {
    "collapsed": false
   },
   "outputs": [
    {
     "data": {
      "text/plain": [
       "'hello'"
      ]
     },
     "execution_count": 9,
     "metadata": {},
     "output_type": "execute_result"
    }
   ],
   "source": [
    "#Main Block\n",
    "#acts as the key input by user\n",
    "key='01234567'\n",
    "cipher=encrypt(plaintext,key)\n",
    "\n",
    "decrypt(cipher,key)"
   ]
  },
  {
   "cell_type": "code",
   "execution_count": null,
   "metadata": {
    "collapsed": true
   },
   "outputs": [],
   "source": []
  },
  {
   "cell_type": "code",
   "execution_count": null,
   "metadata": {
    "collapsed": true
   },
   "outputs": [],
   "source": []
  }
 ],
 "metadata": {
  "kernelspec": {
   "display_name": "Python [Root]",
   "language": "python",
   "name": "Python [Root]"
  },
  "language_info": {
   "codemirror_mode": {
    "name": "ipython",
    "version": 2
   },
   "file_extension": ".py",
   "mimetype": "text/x-python",
   "name": "python",
   "nbconvert_exporter": "python",
   "pygments_lexer": "ipython2",
   "version": "2.7.12"
  }
 },
 "nbformat": 4,
 "nbformat_minor": 0
}
