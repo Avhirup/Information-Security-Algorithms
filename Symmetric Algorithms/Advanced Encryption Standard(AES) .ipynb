{
 "cells": [
  {
   "cell_type": "markdown",
   "metadata": {},
   "source": [
    "## AES\n",
    "Advanced Encryption Standard or AES is a symmetric block cipher used by the U.S. government to protect classified information and is implemented in software and hardware throughout the world to encrypt sensitive data.\n",
    "#### Library used:PyCrypto BlockSize=16\n",
    "\n",
    "<img src=\"AES.png\">"
   ]
  },
  {
   "cell_type": "code",
   "execution_count": 57,
   "metadata": {
    "collapsed": true
   },
   "outputs": [],
   "source": [
    "#Importing Dependencies\n",
    "\n",
    "from Crypto import Random\n",
    "from Crypto.Cipher import AES\n",
    "import base64\n",
    "import hashlib"
   ]
  },
  {
   "cell_type": "code",
   "execution_count": 58,
   "metadata": {
    "collapsed": false
   },
   "outputs": [
    {
     "data": {
      "text/plain": [
       "'hello world'"
      ]
     },
     "execution_count": 58,
     "metadata": {},
     "output_type": "execute_result"
    }
   ],
   "source": [
    "#copying plaintext from file\n",
    "PlainTextFile=open(\"PlainText.txt\")\n",
    "plaintext=PlainTextFile.read()\n",
    "plaintext"
   ]
  },
  {
   "cell_type": "code",
   "execution_count": 55,
   "metadata": {
    "collapsed": true
   },
   "outputs": [],
   "source": [
    "#AES Example\n",
    "\n",
    "BS=16\n",
    "pad = lambda s: s + (BS - len(s) % BS) * chr(BS - len(s) % BS) \n",
    "unpad = lambda s : s[:-ord(s[len(s)-1:])]\n",
    "\n",
    "def encrypt(raw,key):\n",
    "    CipherText=\"\"\n",
    "    CipherTextFile=open(\"CipherText.txt\",'w')\n",
    "    raw = pad(raw)\n",
    "    iv = Random.new().read( AES.block_size )\n",
    "    cipher = AES.new(key, AES.MODE_CBC, iv )\n",
    "    CipherText=base64.b64encode( iv + cipher.encrypt( raw ) )\n",
    "    CipherTextFile.write(CipherText)\n",
    "    return CipherText\n",
    "\n",
    "def decrypt(enc,key):\n",
    "    PlainText=\"\"\n",
    "    PlainTextFile=open(\"PlainText.txt\",'w')\n",
    "    enc = base64.b64decode(enc)\n",
    "    iv = enc[:16]\n",
    "    cipher = AES.new(key, AES.MODE_CBC, iv )\n",
    "    PlainText=unpad(cipher.decrypt( enc[16:] ))\n",
    "    PlainTextFile.write(PlainText)\n",
    "    return PlainText"
   ]
  },
  {
   "cell_type": "code",
   "execution_count": 56,
   "metadata": {
    "collapsed": false
   },
   "outputs": [
    {
     "name": "stdout",
     "output_type": "stream",
     "text": [
      "hello world\n"
     ]
    }
   ],
   "source": [
    "#Main Block\n",
    "\n",
    "#acts as the key input by user\n",
    "passphrase='avhirup'\n",
    "#key should be 16 bit,so generating 16 byte hash value using passphrase entered by user \n",
    "key=hashlib.sha256(passphrase).digest()\n",
    "cipher=encrypt(plaintext,key)\n",
    "print decrypt(cipher,key)"
   ]
  },
  {
   "cell_type": "code",
   "execution_count": null,
   "metadata": {
    "collapsed": false
   },
   "outputs": [],
   "source": []
  },
  {
   "cell_type": "code",
   "execution_count": null,
   "metadata": {
    "collapsed": true
   },
   "outputs": [],
   "source": []
  }
 ],
 "metadata": {
  "kernelspec": {
   "display_name": "Python [Root]",
   "language": "python",
   "name": "Python [Root]"
  },
  "language_info": {
   "codemirror_mode": {
    "name": "ipython",
    "version": 2
   },
   "file_extension": ".py",
   "mimetype": "text/x-python",
   "name": "python",
   "nbconvert_exporter": "python",
   "pygments_lexer": "ipython2",
   "version": "2.7.12"
  }
 },
 "nbformat": 4,
 "nbformat_minor": 0
}
